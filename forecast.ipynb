{
 "cells": [
  {
   "cell_type": "code",
   "execution_count": 1,
   "metadata": {},
   "outputs": [],
   "source": [
    "import os\n",
    "import datetime\n",
    "\n",
    "import IPython\n",
    "import IPython.display\n",
    "import matplotlib as mpl\n",
    "import matplotlib.pyplot as plt\n",
    "import numpy as np\n",
    "import pandas as pd\n",
    "import seaborn as sns\n",
    "import tensorflow as tf\n",
    "physical_devices = tf.config.list_physical_devices('GPU')\n",
    "tf.config.experimental.set_memory_growth(physical_devices[0], enable=True)\n",
    "\n",
    "mpl.rcParams['figure.figsize'] = (8, 6)\n",
    "mpl.rcParams['axes.grid'] = False"
   ]
  },
  {
   "cell_type": "code",
   "execution_count": 2,
   "metadata": {},
   "outputs": [],
   "source": [
    "df = pd.read_csv(\"final_ds.csv\")\n",
    "\n",
    "date_time = pd.to_datetime(df.pop('Start Time'), format='%Y.%m.%d %H:%M:%S')\n",
    "town = df.pop(\"NE Name\")"
   ]
  },
  {
   "cell_type": "code",
   "execution_count": 3,
   "metadata": {},
   "outputs": [
    {
     "data": {
      "text/html": [
       "<div>\n",
       "<style scoped>\n",
       "    .dataframe tbody tr th:only-of-type {\n",
       "        vertical-align: middle;\n",
       "    }\n",
       "\n",
       "    .dataframe tbody tr th {\n",
       "        vertical-align: top;\n",
       "    }\n",
       "\n",
       "    .dataframe thead th {\n",
       "        text-align: right;\n",
       "    }\n",
       "</style>\n",
       "<table border=\"1\" class=\"dataframe\">\n",
       "  <thead>\n",
       "    <tr style=\"text-align: right;\">\n",
       "      <th></th>\n",
       "      <th>ratio</th>\n",
       "      <th>maximum</th>\n",
       "      <th>success</th>\n",
       "      <th>uplink</th>\n",
       "      <th>downlink</th>\n",
       "    </tr>\n",
       "  </thead>\n",
       "  <tbody>\n",
       "    <tr>\n",
       "      <th>0</th>\n",
       "      <td>100.000</td>\n",
       "      <td>8842.0</td>\n",
       "      <td>4243.0</td>\n",
       "      <td>125672413.0</td>\n",
       "      <td>7.808551e+08</td>\n",
       "    </tr>\n",
       "    <tr>\n",
       "      <th>1</th>\n",
       "      <td>100.000</td>\n",
       "      <td>8029.0</td>\n",
       "      <td>1761.0</td>\n",
       "      <td>120271721.0</td>\n",
       "      <td>8.943131e+08</td>\n",
       "    </tr>\n",
       "    <tr>\n",
       "      <th>2</th>\n",
       "      <td>100.000</td>\n",
       "      <td>7511.0</td>\n",
       "      <td>1432.0</td>\n",
       "      <td>113310665.0</td>\n",
       "      <td>7.235221e+08</td>\n",
       "    </tr>\n",
       "    <tr>\n",
       "      <th>3</th>\n",
       "      <td>100.000</td>\n",
       "      <td>7260.0</td>\n",
       "      <td>1151.0</td>\n",
       "      <td>131486406.0</td>\n",
       "      <td>6.064117e+08</td>\n",
       "    </tr>\n",
       "    <tr>\n",
       "      <th>4</th>\n",
       "      <td>100.000</td>\n",
       "      <td>7045.0</td>\n",
       "      <td>1228.0</td>\n",
       "      <td>146347596.0</td>\n",
       "      <td>5.845472e+08</td>\n",
       "    </tr>\n",
       "    <tr>\n",
       "      <th>...</th>\n",
       "      <td>...</td>\n",
       "      <td>...</td>\n",
       "      <td>...</td>\n",
       "      <td>...</td>\n",
       "      <td>...</td>\n",
       "    </tr>\n",
       "    <tr>\n",
       "      <th>716</th>\n",
       "      <td>99.358</td>\n",
       "      <td>8861.0</td>\n",
       "      <td>3405.0</td>\n",
       "      <td>304610522.0</td>\n",
       "      <td>1.345308e+09</td>\n",
       "    </tr>\n",
       "    <tr>\n",
       "      <th>717</th>\n",
       "      <td>99.180</td>\n",
       "      <td>9597.0</td>\n",
       "      <td>3993.0</td>\n",
       "      <td>357282434.0</td>\n",
       "      <td>1.774680e+09</td>\n",
       "    </tr>\n",
       "    <tr>\n",
       "      <th>718</th>\n",
       "      <td>99.248</td>\n",
       "      <td>10287.0</td>\n",
       "      <td>3959.0</td>\n",
       "      <td>294613620.0</td>\n",
       "      <td>1.952499e+09</td>\n",
       "    </tr>\n",
       "    <tr>\n",
       "      <th>719</th>\n",
       "      <td>99.539</td>\n",
       "      <td>10400.0</td>\n",
       "      <td>4100.0</td>\n",
       "      <td>274070188.0</td>\n",
       "      <td>1.882121e+09</td>\n",
       "    </tr>\n",
       "    <tr>\n",
       "      <th>720</th>\n",
       "      <td>99.564</td>\n",
       "      <td>10468.0</td>\n",
       "      <td>4563.0</td>\n",
       "      <td>277166268.0</td>\n",
       "      <td>1.887169e+09</td>\n",
       "    </tr>\n",
       "  </tbody>\n",
       "</table>\n",
       "<p>721 rows × 5 columns</p>\n",
       "</div>"
      ],
      "text/plain": [
       "       ratio  maximum  success       uplink      downlink\n",
       "0    100.000   8842.0   4243.0  125672413.0  7.808551e+08\n",
       "1    100.000   8029.0   1761.0  120271721.0  8.943131e+08\n",
       "2    100.000   7511.0   1432.0  113310665.0  7.235221e+08\n",
       "3    100.000   7260.0   1151.0  131486406.0  6.064117e+08\n",
       "4    100.000   7045.0   1228.0  146347596.0  5.845472e+08\n",
       "..       ...      ...      ...          ...           ...\n",
       "716   99.358   8861.0   3405.0  304610522.0  1.345308e+09\n",
       "717   99.180   9597.0   3993.0  357282434.0  1.774680e+09\n",
       "718   99.248  10287.0   3959.0  294613620.0  1.952499e+09\n",
       "719   99.539  10400.0   4100.0  274070188.0  1.882121e+09\n",
       "720   99.564  10468.0   4563.0  277166268.0  1.887169e+09\n",
       "\n",
       "[721 rows x 5 columns]"
      ]
     },
     "execution_count": 3,
     "metadata": {},
     "output_type": "execute_result"
    }
   ],
   "source": [
    "df"
   ]
  },
  {
   "cell_type": "code",
   "execution_count": 4,
   "metadata": {},
   "outputs": [
    {
     "data": {
      "image/png": "[encoded data removed]",
      "text/plain": [
       "<Figure size 576x432 with 4 Axes>"
      ]
     },
     "metadata": {
      "needs_background": "light"
     },
     "output_type": "display_data"
    },
    {
     "data": {
      "image/png": "[encoded data removed]",
      "text/plain": [
       "<Figure size 576x432 with 4 Axes>"
      ]
     },
     "metadata": {
      "needs_background": "light"
     },
     "output_type": "display_data"
    }
   ],
   "source": [
    "plot_cols = ['uplink', 'downlink', 'success', 'ratio']\n",
    "plot_features = df[plot_cols]\n",
    "plot_features.index = date_time\n",
    "_ = plot_features.plot(subplots=True)\n",
    "\n",
    "plot_features = df[plot_cols][:280]\n",
    "plot_features.index = date_time[:280]\n",
    "_ = plot_features.plot(subplots=True)"
   ]
  },
  {
   "cell_type": "code",
   "execution_count": 5,
   "metadata": {},
   "outputs": [],
   "source": [
    "tmp = df.describe().transpose()"
   ]
  },
  {
   "cell_type": "code",
   "execution_count": 6,
   "metadata": {},
   "outputs": [
    {
     "data": {
      "text/html": [
       "<div>\n",
       "<style scoped>\n",
       "    .dataframe tbody tr th:only-of-type {\n",
       "        vertical-align: middle;\n",
       "    }\n",
       "\n",
       "    .dataframe tbody tr th {\n",
       "        vertical-align: top;\n",
       "    }\n",
       "\n",
       "    .dataframe thead th {\n",
       "        text-align: right;\n",
       "    }\n",
       "</style>\n",
       "<table border=\"1\" class=\"dataframe\">\n",
       "  <thead>\n",
       "    <tr style=\"text-align: right;\">\n",
       "      <th></th>\n",
       "      <th>count</th>\n",
       "      <th>mean</th>\n",
       "      <th>std</th>\n",
       "      <th>min</th>\n",
       "      <th>25%</th>\n",
       "      <th>50%</th>\n",
       "      <th>75%</th>\n",
       "      <th>max</th>\n",
       "    </tr>\n",
       "  </thead>\n",
       "  <tbody>\n",
       "    <tr>\n",
       "      <th>ratio</th>\n",
       "      <td>721.0</td>\n",
       "      <td>9.891635e+01</td>\n",
       "      <td>4.534373e+00</td>\n",
       "      <td>8.485000e+00</td>\n",
       "      <td>9.902700e+01</td>\n",
       "      <td>9.931000e+01</td>\n",
       "      <td>9.951600e+01</td>\n",
       "      <td>1.000000e+02</td>\n",
       "    </tr>\n",
       "    <tr>\n",
       "      <th>maximum</th>\n",
       "      <td>721.0</td>\n",
       "      <td>9.168861e+03</td>\n",
       "      <td>1.207344e+03</td>\n",
       "      <td>5.422000e+03</td>\n",
       "      <td>8.366000e+03</td>\n",
       "      <td>9.209000e+03</td>\n",
       "      <td>1.009700e+04</td>\n",
       "      <td>1.248300e+04</td>\n",
       "    </tr>\n",
       "    <tr>\n",
       "      <th>success</th>\n",
       "      <td>721.0</td>\n",
       "      <td>2.864417e+03</td>\n",
       "      <td>1.150683e+03</td>\n",
       "      <td>7.130000e+02</td>\n",
       "      <td>2.077000e+03</td>\n",
       "      <td>3.012000e+03</td>\n",
       "      <td>3.615000e+03</td>\n",
       "      <td>7.865000e+03</td>\n",
       "    </tr>\n",
       "    <tr>\n",
       "      <th>uplink</th>\n",
       "      <td>721.0</td>\n",
       "      <td>2.463331e+08</td>\n",
       "      <td>7.932049e+07</td>\n",
       "      <td>5.946417e+07</td>\n",
       "      <td>1.828928e+08</td>\n",
       "      <td>2.746750e+08</td>\n",
       "      <td>2.971823e+08</td>\n",
       "      <td>4.002718e+08</td>\n",
       "    </tr>\n",
       "    <tr>\n",
       "      <th>downlink</th>\n",
       "      <td>721.0</td>\n",
       "      <td>1.496021e+09</td>\n",
       "      <td>5.835980e+08</td>\n",
       "      <td>2.913374e+08</td>\n",
       "      <td>8.508385e+08</td>\n",
       "      <td>1.802765e+09</td>\n",
       "      <td>1.949052e+09</td>\n",
       "      <td>2.208989e+09</td>\n",
       "    </tr>\n",
       "  </tbody>\n",
       "</table>\n",
       "</div>"
      ],
      "text/plain": [
       "          count          mean           std           min           25%  \\\n",
       "ratio     721.0  9.891635e+01  4.534373e+00  8.485000e+00  9.902700e+01   \n",
       "maximum   721.0  9.168861e+03  1.207344e+03  5.422000e+03  8.366000e+03   \n",
       "success   721.0  2.864417e+03  1.150683e+03  7.130000e+02  2.077000e+03   \n",
       "uplink    721.0  2.463331e+08  7.932049e+07  5.946417e+07  1.828928e+08   \n",
       "downlink  721.0  1.496021e+09  5.835980e+08  2.913374e+08  8.508385e+08   \n",
       "\n",
       "                   50%           75%           max  \n",
       "ratio     9.931000e+01  9.951600e+01  1.000000e+02  \n",
       "maximum   9.209000e+03  1.009700e+04  1.248300e+04  \n",
       "success   3.012000e+03  3.615000e+03  7.865000e+03  \n",
       "uplink    2.746750e+08  2.971823e+08  4.002718e+08  \n",
       "downlink  1.802765e+09  1.949052e+09  2.208989e+09  "
      ]
     },
     "execution_count": 6,
     "metadata": {},
     "output_type": "execute_result"
    }
   ],
   "source": [
    "tmp"
   ]
  },
  {
   "cell_type": "code",
   "execution_count": 7,
   "metadata": {},
   "outputs": [],
   "source": [
    "means = {'ratio': tmp[\"mean\"][\"ratio\"],\n",
    "          'maximum': tmp[\"mean\"][\"maximum\"],\n",
    "          'success': tmp[\"mean\"][\"success\"],\n",
    "          'uplink': tmp[\"mean\"][\"uplink\"],\n",
    "          'downlink': tmp[\"mean\"][\"downlink\"]}\n",
    "stds = {'ratio': tmp[\"std\"][\"ratio\"],\n",
    "          'maximum': tmp[\"std\"][\"maximum\"],\n",
    "          'success': tmp[\"std\"][\"success\"],\n",
    "          'uplink': tmp[\"std\"][\"uplink\"],\n",
    "          'downlink': tmp[\"std\"][\"downlink\"]}"
   ]
  },
  {
   "cell_type": "code",
   "execution_count": 8,
   "metadata": {},
   "outputs": [
    {
     "data": {
      "text/plain": [
       "79320490.06879751"
      ]
     },
     "execution_count": 8,
     "metadata": {},
     "output_type": "execute_result"
    }
   ],
   "source": [
    "stds['{}'.format(\"uplink\")]"
   ]
  },
  {
   "cell_type": "markdown",
   "metadata": {},
   "source": [
    "# Coordonnées du Temps"
   ]
  },
  {
   "cell_type": "code",
   "execution_count": 9,
   "metadata": {},
   "outputs": [],
   "source": [
    "timestamp_s = date_time.map(datetime.datetime.timestamp)"
   ]
  },
  {
   "cell_type": "code",
   "execution_count": 10,
   "metadata": {},
   "outputs": [
    {
     "data": {
      "text/plain": [
       "0      1.600816e+09\n",
       "1      1.600819e+09\n",
       "2      1.600823e+09\n",
       "3      1.600826e+09\n",
       "4      1.600830e+09\n",
       "           ...     \n",
       "716    1.603433e+09\n",
       "717    1.603436e+09\n",
       "718    1.603440e+09\n",
       "719    1.603444e+09\n",
       "720    1.603447e+09\n",
       "Name: Start Time, Length: 721, dtype: float64"
      ]
     },
     "execution_count": 10,
     "metadata": {},
     "output_type": "execute_result"
    }
   ],
   "source": [
    "timestamp_s"
   ]
  },
  {
   "cell_type": "code",
   "execution_count": 11,
   "metadata": {},
   "outputs": [],
   "source": [
    "day = 24*60*60\n",
    "year = (365.2425)*day\n",
    "\n",
    "df['Day sin'] = np.sin(timestamp_s * (2 * np.pi / day))\n",
    "df['Day cos'] = np.cos(timestamp_s * (2 * np.pi / day))\n",
    "df['Year sin'] = np.sin(timestamp_s * (2 * np.pi / year))\n",
    "df['Year cos'] = np.cos(timestamp_s * (2 * np.pi / year))"
   ]
  },
  {
   "cell_type": "code",
   "execution_count": 12,
   "metadata": {},
   "outputs": [
    {
     "data": {
      "text/plain": [
       "Text(0.5, 1.0, 'Time of day signal')"
      ]
     },
     "execution_count": 12,
     "metadata": {},
     "output_type": "execute_result"
    },
    {
     "data": {
      "image/png": "[encoded data removed]",
      "text/plain": [
       "<Figure size 576x432 with 1 Axes>"
      ]
     },
     "metadata": {
      "needs_background": "light"
     },
     "output_type": "display_data"
    }
   ],
   "source": [
    "plt.plot(np.array(df['Day sin'])[:25])\n",
    "plt.plot(np.array(df['Day cos'])[:25])\n",
    "plt.xlabel('Time [h]')\n",
    "plt.title('Time of day signal')"
   ]
  },
  {
   "cell_type": "code",
   "execution_count": 13,
   "metadata": {},
   "outputs": [
    {
     "data": {
      "image/png": "[encoded data removed]",
      "text/plain": [
       "<Figure size 576x432 with 1 Axes>"
      ]
     },
     "metadata": {
      "needs_background": "light"
     },
     "output_type": "display_data"
    }
   ],
   "source": [
    "# connaitre a quel moment, on a une frequence importantz, on peut utiliser les transofrmer de fourier fft\n",
    "fft = tf.signal.rfft(df['uplink'])\n",
    "f_per_dataset = np.arange(0, len(fft))\n",
    "\n",
    "n_samples_h = len(df['uplink'])\n",
    "hours_per_year = 24*365.2524\n",
    "years_per_dataset = n_samples_h/(hours_per_year)\n",
    "\n",
    "f_per_year = f_per_dataset/years_per_dataset\n",
    "plt.step(f_per_year, np.abs(fft))\n",
    "plt.xscale('log')\n",
    "plt.ylim(0, 30000000000)\n",
    "plt.xlim([0.1, max(plt.xlim())])\n",
    "plt.xticks([1, 365.2524], labels=['1/Year', '1/day'])\n",
    "_ = plt.xlabel('Frequency (log scale)')"
   ]
  },
  {
   "cell_type": "markdown",
   "metadata": {},
   "source": [
    "# Dataset"
   ]
  },
  {
   "cell_type": "code",
   "execution_count": 14,
   "metadata": {},
   "outputs": [
    {
     "name": "stdout",
     "output_type": "stream",
     "text": [
      "{'ratio': 0, 'maximum': 1, 'success': 2, 'uplink': 3, 'downlink': 4, 'Day sin': 5, 'Day cos': 6, 'Year sin': 7, 'Year cos': 8}\n"
     ]
    }
   ],
   "source": [
    "column_indices = {name: i for i, name in enumerate(df.columns)}\n",
    "\n",
    "print(column_indices)\n",
    "n = len(df)\n",
    "train_df = df[0:int(n*0.7)]\n",
    "val_df = df[int(n*0.7):int(n*0.9)]\n",
    "test_df = df[int(n*0.9):]\n",
    "\n",
    "num_features = df.shape[1]"
   ]
  },
  {
   "cell_type": "markdown",
   "metadata": {},
   "source": [
    "# Normaliser les données"
   ]
  },
  {
   "cell_type": "markdown",
   "metadata": {},
   "source": [
    "on utilise generalement la normalisation pour ne pas donnée les donnée réel au model. \n",
    " pour le faire, on soustrait la moitié, et divise par l'ecart type de chaque entité"
   ]
  },
  {
   "cell_type": "code",
   "execution_count": 38,
   "metadata": {},
   "outputs": [
    {
     "data": {
      "text/html": [
       "<div>\n",
       "<style scoped>\n",
       "    .dataframe tbody tr th:only-of-type {\n",
       "        vertical-align: middle;\n",
       "    }\n",
       "\n",
       "    .dataframe tbody tr th {\n",
       "        vertical-align: top;\n",
       "    }\n",
       "\n",
       "    .dataframe thead th {\n",
       "        text-align: right;\n",
       "    }\n",
       "</style>\n",
       "<table border=\"1\" class=\"dataframe\">\n",
       "  <thead>\n",
       "    <tr style=\"text-align: right;\">\n",
       "      <th></th>\n",
       "      <th>ratio</th>\n",
       "      <th>maximum</th>\n",
       "      <th>success</th>\n",
       "      <th>uplink</th>\n",
       "      <th>downlink</th>\n",
       "      <th>Day sin</th>\n",
       "      <th>Day cos</th>\n",
       "      <th>Year sin</th>\n",
       "      <th>Year cos</th>\n",
       "    </tr>\n",
       "  </thead>\n",
       "  <tbody>\n",
       "    <tr>\n",
       "      <th>648</th>\n",
       "      <td>0.161624</td>\n",
       "      <td>1.491293</td>\n",
       "      <td>1.492596</td>\n",
       "      <td>0.554543</td>\n",
       "      <td>0.801229</td>\n",
       "      <td>0.672954</td>\n",
       "      <td>-1.250266</td>\n",
       "      <td>6.873802</td>\n",
       "      <td>2.665791</td>\n",
       "    </tr>\n",
       "    <tr>\n",
       "      <th>649</th>\n",
       "      <td>0.111786</td>\n",
       "      <td>1.342847</td>\n",
       "      <td>0.910994</td>\n",
       "      <td>0.715340</td>\n",
       "      <td>0.856240</td>\n",
       "      <td>0.332188</td>\n",
       "      <td>-1.391523</td>\n",
       "      <td>6.907174</td>\n",
       "      <td>2.672145</td>\n",
       "    </tr>\n",
       "    <tr>\n",
       "      <th>650</th>\n",
       "      <td>0.134760</td>\n",
       "      <td>1.313318</td>\n",
       "      <td>0.700873</td>\n",
       "      <td>0.902572</td>\n",
       "      <td>0.907475</td>\n",
       "      <td>-0.033498</td>\n",
       "      <td>-1.439703</td>\n",
       "      <td>6.940614</td>\n",
       "      <td>2.678498</td>\n",
       "    </tr>\n",
       "    <tr>\n",
       "      <th>651</th>\n",
       "      <td>0.074732</td>\n",
       "      <td>1.267028</td>\n",
       "      <td>0.514689</td>\n",
       "      <td>0.694248</td>\n",
       "      <td>0.936803</td>\n",
       "      <td>-0.399184</td>\n",
       "      <td>-1.391523</td>\n",
       "      <td>6.974124</td>\n",
       "      <td>2.684849</td>\n",
       "    </tr>\n",
       "    <tr>\n",
       "      <th>652</th>\n",
       "      <td>0.098076</td>\n",
       "      <td>1.232710</td>\n",
       "      <td>0.553699</td>\n",
       "      <td>0.521428</td>\n",
       "      <td>0.947211</td>\n",
       "      <td>-0.739950</td>\n",
       "      <td>-1.250266</td>\n",
       "      <td>7.007702</td>\n",
       "      <td>2.691198</td>\n",
       "    </tr>\n",
       "    <tr>\n",
       "      <th>...</th>\n",
       "      <td>...</td>\n",
       "      <td>...</td>\n",
       "      <td>...</td>\n",
       "      <td>...</td>\n",
       "      <td>...</td>\n",
       "      <td>...</td>\n",
       "      <td>...</td>\n",
       "      <td>...</td>\n",
       "      <td>...</td>\n",
       "    </tr>\n",
       "    <tr>\n",
       "      <th>716</th>\n",
       "      <td>0.108822</td>\n",
       "      <td>-0.137617</td>\n",
       "      <td>0.554586</td>\n",
       "      <td>0.789707</td>\n",
       "      <td>-0.185924</td>\n",
       "      <td>1.379405</td>\n",
       "      <td>-0.025723</td>\n",
       "      <td>9.299486</td>\n",
       "      <td>3.094119</td>\n",
       "    </tr>\n",
       "    <tr>\n",
       "      <th>717</th>\n",
       "      <td>0.075843</td>\n",
       "      <td>0.449780</td>\n",
       "      <td>1.075899</td>\n",
       "      <td>1.448472</td>\n",
       "      <td>0.571599</td>\n",
       "      <td>1.331262</td>\n",
       "      <td>-0.391688</td>\n",
       "      <td>9.337513</td>\n",
       "      <td>3.100358</td>\n",
       "    </tr>\n",
       "    <tr>\n",
       "      <th>718</th>\n",
       "      <td>0.088442</td>\n",
       "      <td>1.000465</td>\n",
       "      <td>1.045755</td>\n",
       "      <td>0.664677</td>\n",
       "      <td>0.885319</td>\n",
       "      <td>1.190112</td>\n",
       "      <td>-0.732713</td>\n",
       "      <td>9.375607</td>\n",
       "      <td>3.106596</td>\n",
       "    </tr>\n",
       "    <tr>\n",
       "      <th>719</th>\n",
       "      <td>0.142356</td>\n",
       "      <td>1.090650</td>\n",
       "      <td>1.170764</td>\n",
       "      <td>0.407741</td>\n",
       "      <td>0.761152</td>\n",
       "      <td>0.965576</td>\n",
       "      <td>-1.025558</td>\n",
       "      <td>9.413769</td>\n",
       "      <td>3.112832</td>\n",
       "    </tr>\n",
       "    <tr>\n",
       "      <th>720</th>\n",
       "      <td>0.146987</td>\n",
       "      <td>1.144920</td>\n",
       "      <td>1.581255</td>\n",
       "      <td>0.446463</td>\n",
       "      <td>0.770059</td>\n",
       "      <td>0.672954</td>\n",
       "      <td>-1.250266</td>\n",
       "      <td>9.451999</td>\n",
       "      <td>3.119066</td>\n",
       "    </tr>\n",
       "  </tbody>\n",
       "</table>\n",
       "<p>73 rows × 9 columns</p>\n",
       "</div>"
      ],
      "text/plain": [
       "        ratio   maximum   success    uplink  downlink   Day sin   Day cos  \\\n",
       "648  0.161624  1.491293  1.492596  0.554543  0.801229  0.672954 -1.250266   \n",
       "649  0.111786  1.342847  0.910994  0.715340  0.856240  0.332188 -1.391523   \n",
       "650  0.134760  1.313318  0.700873  0.902572  0.907475 -0.033498 -1.439703   \n",
       "651  0.074732  1.267028  0.514689  0.694248  0.936803 -0.399184 -1.391523   \n",
       "652  0.098076  1.232710  0.553699  0.521428  0.947211 -0.739950 -1.250266   \n",
       "..        ...       ...       ...       ...       ...       ...       ...   \n",
       "716  0.108822 -0.137617  0.554586  0.789707 -0.185924  1.379405 -0.025723   \n",
       "717  0.075843  0.449780  1.075899  1.448472  0.571599  1.331262 -0.391688   \n",
       "718  0.088442  1.000465  1.045755  0.664677  0.885319  1.190112 -0.732713   \n",
       "719  0.142356  1.090650  1.170764  0.407741  0.761152  0.965576 -1.025558   \n",
       "720  0.146987  1.144920  1.581255  0.446463  0.770059  0.672954 -1.250266   \n",
       "\n",
       "     Year sin  Year cos  \n",
       "648  6.873802  2.665791  \n",
       "649  6.907174  2.672145  \n",
       "650  6.940614  2.678498  \n",
       "651  6.974124  2.684849  \n",
       "652  7.007702  2.691198  \n",
       "..        ...       ...  \n",
       "716  9.299486  3.094119  \n",
       "717  9.337513  3.100358  \n",
       "718  9.375607  3.106596  \n",
       "719  9.413769  3.112832  \n",
       "720  9.451999  3.119066  \n",
       "\n",
       "[73 rows x 9 columns]"
      ]
     },
     "execution_count": 38,
     "metadata": {},
     "output_type": "execute_result"
    }
   ],
   "source": [
    "test_df"
   ]
  },
  {
   "cell_type": "code",
   "execution_count": 16,
   "metadata": {},
   "outputs": [
    {
     "data": {
      "text/html": [
       "<div>\n",
       "<style scoped>\n",
       "    .dataframe tbody tr th:only-of-type {\n",
       "        vertical-align: middle;\n",
       "    }\n",
       "\n",
       "    .dataframe tbody tr th {\n",
       "        vertical-align: top;\n",
       "    }\n",
       "\n",
       "    .dataframe thead th {\n",
       "        text-align: right;\n",
       "    }\n",
       "</style>\n",
       "<table border=\"1\" class=\"dataframe\">\n",
       "  <thead>\n",
       "    <tr style=\"text-align: right;\">\n",
       "      <th></th>\n",
       "      <th>ratio</th>\n",
       "      <th>maximum</th>\n",
       "      <th>success</th>\n",
       "      <th>uplink</th>\n",
       "      <th>downlink</th>\n",
       "      <th>Day sin</th>\n",
       "      <th>Day cos</th>\n",
       "      <th>Year sin</th>\n",
       "      <th>Year cos</th>\n",
       "    </tr>\n",
       "  </thead>\n",
       "  <tbody>\n",
       "    <tr>\n",
       "      <th>0</th>\n",
       "      <td>100.000</td>\n",
       "      <td>8842.0</td>\n",
       "      <td>4243.0</td>\n",
       "      <td>125672413.0</td>\n",
       "      <td>7.808551e+08</td>\n",
       "      <td>-2.588190e-01</td>\n",
       "      <td>9.659258e-01</td>\n",
       "      <td>-0.990311</td>\n",
       "      <td>-0.138867</td>\n",
       "    </tr>\n",
       "    <tr>\n",
       "      <th>1</th>\n",
       "      <td>100.000</td>\n",
       "      <td>8029.0</td>\n",
       "      <td>1761.0</td>\n",
       "      <td>120271721.0</td>\n",
       "      <td>8.943131e+08</td>\n",
       "      <td>6.915475e-13</td>\n",
       "      <td>1.000000e+00</td>\n",
       "      <td>-0.990410</td>\n",
       "      <td>-0.138157</td>\n",
       "    </tr>\n",
       "    <tr>\n",
       "      <th>2</th>\n",
       "      <td>100.000</td>\n",
       "      <td>7511.0</td>\n",
       "      <td>1432.0</td>\n",
       "      <td>113310665.0</td>\n",
       "      <td>7.235221e+08</td>\n",
       "      <td>2.588190e-01</td>\n",
       "      <td>9.659258e-01</td>\n",
       "      <td>-0.990509</td>\n",
       "      <td>-0.137447</td>\n",
       "    </tr>\n",
       "    <tr>\n",
       "      <th>3</th>\n",
       "      <td>100.000</td>\n",
       "      <td>7260.0</td>\n",
       "      <td>1151.0</td>\n",
       "      <td>131486406.0</td>\n",
       "      <td>6.064117e+08</td>\n",
       "      <td>5.000000e-01</td>\n",
       "      <td>8.660254e-01</td>\n",
       "      <td>-0.990607</td>\n",
       "      <td>-0.136737</td>\n",
       "    </tr>\n",
       "    <tr>\n",
       "      <th>4</th>\n",
       "      <td>100.000</td>\n",
       "      <td>7045.0</td>\n",
       "      <td>1228.0</td>\n",
       "      <td>146347596.0</td>\n",
       "      <td>5.845472e+08</td>\n",
       "      <td>7.071068e-01</td>\n",
       "      <td>7.071068e-01</td>\n",
       "      <td>-0.990705</td>\n",
       "      <td>-0.136027</td>\n",
       "    </tr>\n",
       "    <tr>\n",
       "      <th>...</th>\n",
       "      <td>...</td>\n",
       "      <td>...</td>\n",
       "      <td>...</td>\n",
       "      <td>...</td>\n",
       "      <td>...</td>\n",
       "      <td>...</td>\n",
       "      <td>...</td>\n",
       "      <td>...</td>\n",
       "      <td>...</td>\n",
       "    </tr>\n",
       "    <tr>\n",
       "      <th>499</th>\n",
       "      <td>99.366</td>\n",
       "      <td>11402.0</td>\n",
       "      <td>2822.0</td>\n",
       "      <td>400271847.0</td>\n",
       "      <td>1.536831e+09</td>\n",
       "      <td>9.659258e-01</td>\n",
       "      <td>2.588190e-01</td>\n",
       "      <td>-0.974516</td>\n",
       "      <td>0.224317</td>\n",
       "    </tr>\n",
       "    <tr>\n",
       "      <th>500</th>\n",
       "      <td>99.554</td>\n",
       "      <td>11729.0</td>\n",
       "      <td>3570.0</td>\n",
       "      <td>399555357.0</td>\n",
       "      <td>1.834212e+09</td>\n",
       "      <td>1.000000e+00</td>\n",
       "      <td>1.346590e-11</td>\n",
       "      <td>-0.974355</td>\n",
       "      <td>0.225015</td>\n",
       "    </tr>\n",
       "    <tr>\n",
       "      <th>501</th>\n",
       "      <td>99.630</td>\n",
       "      <td>12021.0</td>\n",
       "      <td>4034.0</td>\n",
       "      <td>381747067.0</td>\n",
       "      <td>2.178224e+09</td>\n",
       "      <td>9.659258e-01</td>\n",
       "      <td>-2.588190e-01</td>\n",
       "      <td>-0.974194</td>\n",
       "      <td>0.225713</td>\n",
       "    </tr>\n",
       "    <tr>\n",
       "      <th>502</th>\n",
       "      <td>99.584</td>\n",
       "      <td>12154.0</td>\n",
       "      <td>4067.0</td>\n",
       "      <td>339674084.0</td>\n",
       "      <td>2.095709e+09</td>\n",
       "      <td>8.660254e-01</td>\n",
       "      <td>-5.000000e-01</td>\n",
       "      <td>-0.974032</td>\n",
       "      <td>0.226412</td>\n",
       "    </tr>\n",
       "    <tr>\n",
       "      <th>503</th>\n",
       "      <td>99.495</td>\n",
       "      <td>12148.0</td>\n",
       "      <td>4140.0</td>\n",
       "      <td>327753642.0</td>\n",
       "      <td>2.039613e+09</td>\n",
       "      <td>7.071068e-01</td>\n",
       "      <td>-7.071068e-01</td>\n",
       "      <td>-0.973869</td>\n",
       "      <td>0.227110</td>\n",
       "    </tr>\n",
       "  </tbody>\n",
       "</table>\n",
       "<p>504 rows × 9 columns</p>\n",
       "</div>"
      ],
      "text/plain": [
       "       ratio  maximum  success       uplink      downlink       Day sin  \\\n",
       "0    100.000   8842.0   4243.0  125672413.0  7.808551e+08 -2.588190e-01   \n",
       "1    100.000   8029.0   1761.0  120271721.0  8.943131e+08  6.915475e-13   \n",
       "2    100.000   7511.0   1432.0  113310665.0  7.235221e+08  2.588190e-01   \n",
       "3    100.000   7260.0   1151.0  131486406.0  6.064117e+08  5.000000e-01   \n",
       "4    100.000   7045.0   1228.0  146347596.0  5.845472e+08  7.071068e-01   \n",
       "..       ...      ...      ...          ...           ...           ...   \n",
       "499   99.366  11402.0   2822.0  400271847.0  1.536831e+09  9.659258e-01   \n",
       "500   99.554  11729.0   3570.0  399555357.0  1.834212e+09  1.000000e+00   \n",
       "501   99.630  12021.0   4034.0  381747067.0  2.178224e+09  9.659258e-01   \n",
       "502   99.584  12154.0   4067.0  339674084.0  2.095709e+09  8.660254e-01   \n",
       "503   99.495  12148.0   4140.0  327753642.0  2.039613e+09  7.071068e-01   \n",
       "\n",
       "          Day cos  Year sin  Year cos  \n",
       "0    9.659258e-01 -0.990311 -0.138867  \n",
       "1    1.000000e+00 -0.990410 -0.138157  \n",
       "2    9.659258e-01 -0.990509 -0.137447  \n",
       "3    8.660254e-01 -0.990607 -0.136737  \n",
       "4    7.071068e-01 -0.990705 -0.136027  \n",
       "..            ...       ...       ...  \n",
       "499  2.588190e-01 -0.974516  0.224317  \n",
       "500  1.346590e-11 -0.974355  0.225015  \n",
       "501 -2.588190e-01 -0.974194  0.225713  \n",
       "502 -5.000000e-01 -0.974032  0.226412  \n",
       "503 -7.071068e-01 -0.973869  0.227110  \n",
       "\n",
       "[504 rows x 9 columns]"
      ]
     },
     "execution_count": 16,
     "metadata": {},
     "output_type": "execute_result"
    }
   ],
   "source": [
    "train_mean = train_df.mean()\n",
    "train_std = train_df.std()\n",
    "\n",
    "train_df = (train_df - train_mean) / train_std; ttf = train_df\n",
    "val_df = (val_df - train_mean) / train_std\n",
    "test_df = (test_df - train_mean) / train_std\n",
    "result = train_df * train_std + train_mean\n",
    "result"
   ]
  },
  {
   "cell_type": "code",
   "execution_count": 17,
   "metadata": {},
   "outputs": [
    {
     "data": {
      "text/html": [
       "<div>\n",
       "<style scoped>\n",
       "    .dataframe tbody tr th:only-of-type {\n",
       "        vertical-align: middle;\n",
       "    }\n",
       "\n",
       "    .dataframe tbody tr th {\n",
       "        vertical-align: top;\n",
       "    }\n",
       "\n",
       "    .dataframe thead th {\n",
       "        text-align: right;\n",
       "    }\n",
       "</style>\n",
       "<table border=\"1\" class=\"dataframe\">\n",
       "  <thead>\n",
       "    <tr style=\"text-align: right;\">\n",
       "      <th></th>\n",
       "      <th>ratio</th>\n",
       "      <th>maximum</th>\n",
       "      <th>success</th>\n",
       "      <th>uplink</th>\n",
       "      <th>downlink</th>\n",
       "      <th>Day sin</th>\n",
       "      <th>Day cos</th>\n",
       "      <th>Year sin</th>\n",
       "      <th>Year cos</th>\n",
       "    </tr>\n",
       "  </thead>\n",
       "  <tbody>\n",
       "    <tr>\n",
       "      <th>0</th>\n",
       "      <td>0.227766</td>\n",
       "      <td>-0.152781</td>\n",
       "      <td>1.297546</td>\n",
       "      <td>-1.448262</td>\n",
       "      <td>-1.181766</td>\n",
       "      <td>-0.399184</td>\n",
       "      <td>1.340076</td>\n",
       "      <td>0.435068</td>\n",
       "      <td>-1.704005</td>\n",
       "    </tr>\n",
       "    <tr>\n",
       "      <th>1</th>\n",
       "      <td>0.227766</td>\n",
       "      <td>-0.801632</td>\n",
       "      <td>-0.902965</td>\n",
       "      <td>-1.515808</td>\n",
       "      <td>-0.981597</td>\n",
       "      <td>-0.033498</td>\n",
       "      <td>1.388256</td>\n",
       "      <td>0.420943</td>\n",
       "      <td>-1.697345</td>\n",
       "    </tr>\n",
       "    <tr>\n",
       "      <th>2</th>\n",
       "      <td>0.227766</td>\n",
       "      <td>-1.215045</td>\n",
       "      <td>-1.194653</td>\n",
       "      <td>-1.602870</td>\n",
       "      <td>-1.282916</td>\n",
       "      <td>0.332188</td>\n",
       "      <td>1.340076</td>\n",
       "      <td>0.406891</td>\n",
       "      <td>-1.690685</td>\n",
       "    </tr>\n",
       "    <tr>\n",
       "      <th>3</th>\n",
       "      <td>0.227766</td>\n",
       "      <td>-1.415366</td>\n",
       "      <td>-1.443784</td>\n",
       "      <td>-1.375547</td>\n",
       "      <td>-1.489530</td>\n",
       "      <td>0.672954</td>\n",
       "      <td>1.198819</td>\n",
       "      <td>0.392912</td>\n",
       "      <td>-1.684024</td>\n",
       "    </tr>\n",
       "    <tr>\n",
       "      <th>4</th>\n",
       "      <td>0.227766</td>\n",
       "      <td>-1.586956</td>\n",
       "      <td>-1.375517</td>\n",
       "      <td>-1.189679</td>\n",
       "      <td>-1.528104</td>\n",
       "      <td>0.965576</td>\n",
       "      <td>0.974111</td>\n",
       "      <td>0.379004</td>\n",
       "      <td>-1.677362</td>\n",
       "    </tr>\n",
       "    <tr>\n",
       "      <th>...</th>\n",
       "      <td>...</td>\n",
       "      <td>...</td>\n",
       "      <td>...</td>\n",
       "      <td>...</td>\n",
       "      <td>...</td>\n",
       "      <td>...</td>\n",
       "      <td>...</td>\n",
       "      <td>...</td>\n",
       "      <td>...</td>\n",
       "    </tr>\n",
       "    <tr>\n",
       "      <th>499</th>\n",
       "      <td>0.110304</td>\n",
       "      <td>1.890340</td>\n",
       "      <td>0.037705</td>\n",
       "      <td>1.986138</td>\n",
       "      <td>0.151972</td>\n",
       "      <td>1.331262</td>\n",
       "      <td>0.340241</td>\n",
       "      <td>2.682091</td>\n",
       "      <td>1.703216</td>\n",
       "    </tr>\n",
       "    <tr>\n",
       "      <th>500</th>\n",
       "      <td>0.145135</td>\n",
       "      <td>2.151317</td>\n",
       "      <td>0.700873</td>\n",
       "      <td>1.977177</td>\n",
       "      <td>0.676629</td>\n",
       "      <td>1.379405</td>\n",
       "      <td>-0.025723</td>\n",
       "      <td>2.705001</td>\n",
       "      <td>1.709769</td>\n",
       "    </tr>\n",
       "    <tr>\n",
       "      <th>501</th>\n",
       "      <td>0.159215</td>\n",
       "      <td>2.384360</td>\n",
       "      <td>1.112250</td>\n",
       "      <td>1.754450</td>\n",
       "      <td>1.283556</td>\n",
       "      <td>1.331262</td>\n",
       "      <td>-0.391688</td>\n",
       "      <td>2.727982</td>\n",
       "      <td>1.716321</td>\n",
       "    </tr>\n",
       "    <tr>\n",
       "      <th>502</th>\n",
       "      <td>0.150693</td>\n",
       "      <td>2.490507</td>\n",
       "      <td>1.141507</td>\n",
       "      <td>1.228245</td>\n",
       "      <td>1.137978</td>\n",
       "      <td>1.190112</td>\n",
       "      <td>-0.732713</td>\n",
       "      <td>2.751034</td>\n",
       "      <td>1.722871</td>\n",
       "    </tr>\n",
       "    <tr>\n",
       "      <th>503</th>\n",
       "      <td>0.134204</td>\n",
       "      <td>2.485718</td>\n",
       "      <td>1.206228</td>\n",
       "      <td>1.079157</td>\n",
       "      <td>1.039009</td>\n",
       "      <td>0.965576</td>\n",
       "      <td>-1.025558</td>\n",
       "      <td>2.774158</td>\n",
       "      <td>1.729420</td>\n",
       "    </tr>\n",
       "  </tbody>\n",
       "</table>\n",
       "<p>504 rows × 9 columns</p>\n",
       "</div>"
      ],
      "text/plain": [
       "        ratio   maximum   success    uplink  downlink   Day sin   Day cos  \\\n",
       "0    0.227766 -0.152781  1.297546 -1.448262 -1.181766 -0.399184  1.340076   \n",
       "1    0.227766 -0.801632 -0.902965 -1.515808 -0.981597 -0.033498  1.388256   \n",
       "2    0.227766 -1.215045 -1.194653 -1.602870 -1.282916  0.332188  1.340076   \n",
       "3    0.227766 -1.415366 -1.443784 -1.375547 -1.489530  0.672954  1.198819   \n",
       "4    0.227766 -1.586956 -1.375517 -1.189679 -1.528104  0.965576  0.974111   \n",
       "..        ...       ...       ...       ...       ...       ...       ...   \n",
       "499  0.110304  1.890340  0.037705  1.986138  0.151972  1.331262  0.340241   \n",
       "500  0.145135  2.151317  0.700873  1.977177  0.676629  1.379405 -0.025723   \n",
       "501  0.159215  2.384360  1.112250  1.754450  1.283556  1.331262 -0.391688   \n",
       "502  0.150693  2.490507  1.141507  1.228245  1.137978  1.190112 -0.732713   \n",
       "503  0.134204  2.485718  1.206228  1.079157  1.039009  0.965576 -1.025558   \n",
       "\n",
       "     Year sin  Year cos  \n",
       "0    0.435068 -1.704005  \n",
       "1    0.420943 -1.697345  \n",
       "2    0.406891 -1.690685  \n",
       "3    0.392912 -1.684024  \n",
       "4    0.379004 -1.677362  \n",
       "..        ...       ...  \n",
       "499  2.682091  1.703216  \n",
       "500  2.705001  1.709769  \n",
       "501  2.727982  1.716321  \n",
       "502  2.751034  1.722871  \n",
       "503  2.774158  1.729420  \n",
       "\n",
       "[504 rows x 9 columns]"
      ]
     },
     "execution_count": 17,
     "metadata": {},
     "output_type": "execute_result"
    }
   ],
   "source": [
    "train_df"
   ]
  },
  {
   "cell_type": "code",
   "execution_count": 18,
   "metadata": {},
   "outputs": [
    {
     "data": {
      "image/png": "[encoded data removed]",
      "text/plain": [
       "<Figure size 864x432 with 1 Axes>"
      ]
     },
     "metadata": {
      "needs_background": "light"
     },
     "output_type": "display_data"
    }
   ],
   "source": [
    "df_std = (df - train_mean) / train_std\n",
    "df_std = df_std.melt(var_name='Column', value_name='Normalized')\n",
    "plt.figure(figsize=(12, 6))\n",
    "ax = sns.violinplot(x='Column', y='Normalized', data=df_std)\n",
    "_ = ax.set_xticklabels(df.keys(), rotation=90)"
   ]
  },
  {
   "cell_type": "markdown",
   "metadata": {},
   "source": [
    "# Window data"
   ]
  },
  {
   "cell_type": "markdown",
   "metadata": {},
   "source": [
    "1. generateur de fenetre"
   ]
  },
  {
   "cell_type": "code",
   "execution_count": 19,
   "metadata": {},
   "outputs": [],
   "source": [
    "class WindowGenerator():\n",
    "    def __init__(self, input_width, label_width, shift,\n",
    "               train_df=train_df, val_df=val_df, test_df=test_df,\n",
    "               label_columns=None):\n",
    "        # Store the raw data.\n",
    "        self.train_df = train_df\n",
    "        self.val_df = val_df\n",
    "        self.test_df = test_df\n",
    "\n",
    "        # Work out the label column indices.\n",
    "        self.label_columns = label_columns\n",
    "        if label_columns is not None:\n",
    "            self.label_columns_indices = {name: i for i, name in\n",
    "                                        enumerate(label_columns)}\n",
    "        self.column_indices = {name: i for i, name in\n",
    "                               enumerate(train_df.columns)}\n",
    "\n",
    "        # Work out the window parameters.\n",
    "        self.input_width = input_width\n",
    "        self.label_width = label_width\n",
    "        self.shift = shift\n",
    "\n",
    "        self.total_window_size = input_width + shift\n",
    "\n",
    "        self.input_slice = slice(0, input_width)\n",
    "        self.input_indices = np.arange(self.total_window_size)[self.input_slice]\n",
    "\n",
    "        self.label_start = self.total_window_size - self.label_width\n",
    "        self.labels_slice = slice(self.label_start, None)\n",
    "        self.label_indices = np.arange(self.total_window_size)[self.labels_slice]\n",
    "\n",
    "    def __repr__(self):\n",
    "        return '\\n'.join([\n",
    "            f'Total window size: {self.total_window_size}',\n",
    "            f'Input indices: {self.input_indices}',\n",
    "            f'Label indices: {self.label_indices}',\n",
    "            f'Label column name(s): {self.label_columns}'])\n"
   ]
  },
  {
   "cell_type": "code",
   "execution_count": 20,
   "metadata": {},
   "outputs": [],
   "source": [
    "#w = WindowGenerator(input_width=30,\n",
    "#                   label_width=1,\n",
    "#                   shift=30,\n",
    "#                   label_columns=['success'])"
   ]
  },
  {
   "cell_type": "markdown",
   "metadata": {},
   "source": [
    "2. Fractionner"
   ]
  },
  {
   "cell_type": "code",
   "execution_count": 21,
   "metadata": {},
   "outputs": [],
   "source": [
    "def split_window(self, features):\n",
    "    inputs = features[:, self.input_slice, :]\n",
    "    labels = features[:, self.labels_slice, :]\n",
    "    if self.label_columns is not None:\n",
    "        labels = tf.stack(\n",
    "            [labels[:, :, self.column_indices[name]] for name in self.label_columns],\n",
    "            axis=-1)\n",
    "\n",
    "    # Slicing doesn't preserve static shape information, so set the shapes\n",
    "    # manually. This way the `tf.data.Datasets` are easier to inspect.\n",
    "    inputs.set_shape([None, self.input_width, None])\n",
    "    labels.set_shape([None, self.label_width, None])\n",
    "\n",
    "    return inputs, labels\n",
    "WindowGenerator.split_window = split_window"
   ]
  },
  {
   "cell_type": "markdown",
   "metadata": {},
   "source": [
    "3. Tracée"
   ]
  },
  {
   "cell_type": "code",
   "execution_count": 36,
   "metadata": {},
   "outputs": [],
   "source": [
    "def plot(self, model=None, plot_col='ratio', max_subplots=3):\n",
    "    inputs, labels = self.example\n",
    "    plt.figure(figsize=(12, 8))\n",
    "    plot_col_index = self.column_indices[plot_col]\n",
    "    \n",
    "    max_n = min(max_subplots, len(inputs))\n",
    "    for n in range(max_n):\n",
    "        if n == max_n - 1:\n",
    "            plt.subplot(3, 1, n+1)\n",
    "            plt.ylabel(f'{plot_col} [normed]')\n",
    "            plt.plot(self.input_indices, inputs[n, :, plot_col_index] * stds[plot_col] + means[plot_col],\n",
    "                     label='Inputs', marker='.', zorder=-10)\n",
    "\n",
    "            if self.label_columns:\n",
    "                label_col_index = self.label_columns_indices.get(plot_col, None)\n",
    "            else:\n",
    "                label_col_index = plot_col_index\n",
    "\n",
    "            if label_col_index is None:\n",
    "                continue\n",
    "\n",
    "            plt.scatter(self.label_indices, labels[n, :, label_col_index] * stds[plot_col] + means[plot_col],\n",
    "                        edgecolors='k', label='Labels', c='#2ca02c', s=64)\n",
    "            print(\"axis : \", self.label_indices)\n",
    "            if model is not None:\n",
    "                predictions = model(inputs)\n",
    "                \n",
    "                plt.scatter(self.label_indices, predictions[n, :, label_col_index] * stds[plot_col] + means[plot_col],\n",
    "                          marker='X', edgecolors='k', label='Predictions',\n",
    "                          c='#ff7f0e', s=64)\n",
    "\n",
    "            if n == 0:\n",
    "                plt.legend()\n",
    "\n",
    "    plt.xlabel('Time [h]')\n",
    "    plt.show()\n",
    "    return self.label_indices, predictions[n, :, label_col_index] * stds[plot_col] + means[plot_col]\n",
    "\n",
    "WindowGenerator.plot = plot"
   ]
  },
  {
   "cell_type": "markdown",
   "metadata": {},
   "source": [
    "4. Make dataset"
   ]
  },
  {
   "cell_type": "code",
   "execution_count": 23,
   "metadata": {},
   "outputs": [],
   "source": [
    "def make_dataset(self, data):\n",
    "    data = np.array(data, dtype=np.float32)\n",
    "    ds = tf.keras.preprocessing.timeseries_dataset_from_array(\n",
    "      data=data,\n",
    "      targets=None,\n",
    "      sequence_length=self.total_window_size,\n",
    "      sequence_stride=1,\n",
    "      shuffle=True,\n",
    "      batch_size=32,)\n",
    "\n",
    "    ds = ds.map(self.split_window)\n",
    "\n",
    "    return ds\n",
    "\n",
    "WindowGenerator.make_dataset = make_dataset"
   ]
  },
  {
   "cell_type": "code",
   "execution_count": 24,
   "metadata": {},
   "outputs": [],
   "source": [
    "@property\n",
    "def train(self):\n",
    "    return self.make_dataset(self.train_df)\n",
    "\n",
    "@property\n",
    "def val(self):\n",
    "    return self.make_dataset(self.val_df)\n",
    "\n",
    "@property\n",
    "def test(self):\n",
    "    return self.make_dataset(self.test_df)\n",
    "\n",
    "@property\n",
    "def example(self):\n",
    "    \"\"\"Get and cache an example batch of `inputs, labels` for plotting.\"\"\"\n",
    "    result = getattr(self, '_example', None)\n",
    "    if result is None:\n",
    "        # No example batch was found, so get one from the `.train` dataset\n",
    "        result = next(iter(self.train))\n",
    "        # And cache it for next time\n",
    "        self._example = result\n",
    "    return result\n",
    "\n",
    "WindowGenerator.train = train\n",
    "WindowGenerator.val = val\n",
    "WindowGenerator.test = test\n",
    "WindowGenerator.example = example"
   ]
  },
  {
   "cell_type": "markdown",
   "metadata": {},
   "source": [
    "# RNN, pour la mesure de performance"
   ]
  },
  {
   "cell_type": "code",
   "execution_count": 25,
   "metadata": {},
   "outputs": [],
   "source": [
    "MAX_EPOCHS = 200\n",
    "\n",
    "def compile_and_fit(model, window, patience=3):\n",
    "    early_stopping = tf.keras.callbacks.EarlyStopping(monitor='val_loss',\n",
    "                                                    patience=patience,\n",
    "                                                    mode='min')\n",
    "\n",
    "    model.compile(loss=tf.losses.MeanSquaredError(), # MeanSquaredError\n",
    "                optimizer=tf.optimizers.Adam(),\n",
    "                metrics=[tf.metrics.MeanAbsoluteError()]) # MeanAbsoluteError\n",
    "\n",
    "    history = model.fit(window.train, epochs=MAX_EPOCHS,\n",
    "                      validation_data=window.val,\n",
    "                      callbacks=[early_stopping])\n",
    "    return history"
   ]
  },
  {
   "cell_type": "code",
   "execution_count": 26,
   "metadata": {},
   "outputs": [],
   "source": [
    "lstm_model = tf.keras.models.Sequential([\n",
    "    # Shape [batch, time, features] => [batch, time, lstm_units]\n",
    "    tf.keras.layers.LSTM(32, return_sequences=True),\n",
    "    # Shape => [batch, time, features]\n",
    "    tf.keras.layers.Dense(units=1)\n",
    "])"
   ]
  },
  {
   "cell_type": "code",
   "execution_count": 27,
   "metadata": {},
   "outputs": [],
   "source": [
    "#linear = tf.keras.Sequential([\n",
    "#    tf.keras.layers.Dense(units=1)\n",
    "#])"
   ]
  },
  {
   "cell_type": "code",
   "execution_count": 28,
   "metadata": {},
   "outputs": [
    {
     "data": {
      "text/plain": [
       "Total window size: 48\n",
       "Input indices: [ 0  1  2  3  4  5  6  7  8  9 10 11 12 13 14 15 16 17 18 19 20 21 22 23]\n",
       "Label indices: [24 25 26 27 28 29 30 31 32 33 34 35 36 37 38 39 40 41 42 43 44 45 46 47]\n",
       "Label column name(s): ['uplink']"
      ]
     },
     "execution_count": 28,
     "metadata": {},
     "output_type": "execute_result"
    }
   ],
   "source": [
    "wide_window = WindowGenerator(\n",
    "    input_width=24*1, label_width=24*1, shift=24*1,\n",
    "    label_columns=['uplink'])\n",
    "\n",
    "wide_window"
   ]
  },
  {
   "cell_type": "code",
   "execution_count": 29,
   "metadata": {
    "scrolled": true
   },
   "outputs": [
    {
     "name": "stdout",
     "output_type": "stream",
     "text": [
      "Epoch 1/200\n",
      "15/15 [==============================] - 0s 21ms/step - loss: 1.0510 - mean_absolute_error: 0.8635 - val_loss: 1.6517 - val_mean_absolute_error: 1.2050\n",
      "Epoch 2/200\n",
      "15/15 [==============================] - 0s 6ms/step - loss: 0.6687 - mean_absolute_error: 0.6630 - val_loss: 1.2395 - val_mean_absolute_error: 1.0432\n",
      "Epoch 3/200\n",
      "15/15 [==============================] - 0s 6ms/step - loss: 0.5230 - mean_absolute_error: 0.5740 - val_loss: 0.9235 - val_mean_absolute_error: 0.8941\n",
      "Epoch 4/200\n",
      "15/15 [==============================] - 0s 5ms/step - loss: 0.4396 - mean_absolute_error: 0.5044 - val_loss: 0.7607 - val_mean_absolute_error: 0.7985\n",
      "Epoch 5/200\n",
      "15/15 [==============================] - 0s 5ms/step - loss: 0.3794 - mean_absolute_error: 0.4469 - val_loss: 0.6683 - val_mean_absolute_error: 0.7353\n",
      "Epoch 6/200\n",
      "15/15 [==============================] - 0s 5ms/step - loss: 0.3402 - mean_absolute_error: 0.4096 - val_loss: 0.6175 - val_mean_absolute_error: 0.7023\n",
      "Epoch 7/200\n",
      "15/15 [==============================] - 0s 5ms/step - loss: 0.3124 - mean_absolute_error: 0.3890 - val_loss: 0.5671 - val_mean_absolute_error: 0.6639\n",
      "Epoch 8/200\n",
      "15/15 [==============================] - 0s 5ms/step - loss: 0.2927 - mean_absolute_error: 0.3746 - val_loss: 0.5205 - val_mean_absolute_error: 0.6269\n",
      "Epoch 9/200\n",
      "15/15 [==============================] - 0s 5ms/step - loss: 0.2757 - mean_absolute_error: 0.3600 - val_loss: 0.4621 - val_mean_absolute_error: 0.5815\n",
      "Epoch 10/200\n",
      "15/15 [==============================] - 0s 5ms/step - loss: 0.2609 - mean_absolute_error: 0.3477 - val_loss: 0.4168 - val_mean_absolute_error: 0.5458\n",
      "Epoch 11/200\n",
      "15/15 [==============================] - 0s 5ms/step - loss: 0.2488 - mean_absolute_error: 0.3363 - val_loss: 0.3717 - val_mean_absolute_error: 0.5112\n",
      "Epoch 12/200\n",
      "15/15 [==============================] - 0s 5ms/step - loss: 0.2367 - mean_absolute_error: 0.3283 - val_loss: 0.3406 - val_mean_absolute_error: 0.4835\n",
      "Epoch 13/200\n",
      "15/15 [==============================] - 0s 5ms/step - loss: 0.2253 - mean_absolute_error: 0.3173 - val_loss: 0.3221 - val_mean_absolute_error: 0.4666\n",
      "Epoch 14/200\n",
      "15/15 [==============================] - 0s 5ms/step - loss: 0.2150 - mean_absolute_error: 0.3100 - val_loss: 0.3062 - val_mean_absolute_error: 0.4556\n",
      "Epoch 15/200\n",
      "15/15 [==============================] - 0s 6ms/step - loss: 0.2062 - mean_absolute_error: 0.3079 - val_loss: 0.2949 - val_mean_absolute_error: 0.4453\n",
      "Epoch 16/200\n",
      "15/15 [==============================] - 0s 5ms/step - loss: 0.1958 - mean_absolute_error: 0.2961 - val_loss: 0.2738 - val_mean_absolute_error: 0.4264\n",
      "Epoch 17/200\n",
      "15/15 [==============================] - 0s 5ms/step - loss: 0.1861 - mean_absolute_error: 0.2885 - val_loss: 0.2656 - val_mean_absolute_error: 0.4175\n",
      "Epoch 18/200\n",
      "15/15 [==============================] - 0s 5ms/step - loss: 0.1760 - mean_absolute_error: 0.2788 - val_loss: 0.2603 - val_mean_absolute_error: 0.4171\n",
      "Epoch 19/200\n",
      "15/15 [==============================] - 0s 5ms/step - loss: 0.1677 - mean_absolute_error: 0.2739 - val_loss: 0.2545 - val_mean_absolute_error: 0.4084\n",
      "Epoch 20/200\n",
      "15/15 [==============================] - 0s 5ms/step - loss: 0.1571 - mean_absolute_error: 0.2661 - val_loss: 0.2530 - val_mean_absolute_error: 0.4049\n",
      "Epoch 21/200\n",
      "15/15 [==============================] - 0s 6ms/step - loss: 0.1459 - mean_absolute_error: 0.2580 - val_loss: 0.2557 - val_mean_absolute_error: 0.4059\n",
      "Epoch 22/200\n",
      "15/15 [==============================] - 0s 5ms/step - loss: 0.1341 - mean_absolute_error: 0.2463 - val_loss: 0.2644 - val_mean_absolute_error: 0.4049\n",
      "Epoch 23/200\n",
      "15/15 [==============================] - 0s 5ms/step - loss: 0.1247 - mean_absolute_error: 0.2372 - val_loss: 0.2733 - val_mean_absolute_error: 0.4087\n"
     ]
    }
   ],
   "source": [
    "history = compile_and_fit(lstm_model, wide_window)\n"
   ]
  },
  {
   "cell_type": "code",
   "execution_count": 30,
   "metadata": {
    "scrolled": true
   },
   "outputs": [
    {
     "name": "stdout",
     "output_type": "stream",
     "text": [
      "Input shape: (32, 24, 9)\n",
      "Output shape: (32, 24, 1)\n"
     ]
    }
   ],
   "source": [
    "print('Input shape:', wide_window.example[0].shape)\n",
    "print('Output shape:', lstm_model(wide_window.example[0]).shape)"
   ]
  },
  {
   "cell_type": "code",
   "execution_count": 35,
   "metadata": {
    "scrolled": true
   },
   "outputs": [
    {
     "name": "stdout",
     "output_type": "stream",
     "text": [
      "axis :  [24 25 26 27 28 29 30 31 32 33 34 35 36 37 38 39 40 41 42 43 44 45 46 47]\n"
     ]
    },
    {
     "data": {
      "image/png": "[encoded data removed]",
      "text/plain": [
       "<Figure size 864x576 with 1 Axes>"
      ]
     },
     "metadata": {
      "needs_background": "light"
     },
     "output_type": "display_data"
    }
   ],
   "source": [
    "axis, y = wide_window.plot(lstm_model, plot_col=\"uplink\")"
   ]
  },
  {
   "cell_type": "code",
   "execution_count": 29,
   "metadata": {},
   "outputs": [],
   "source": [
    "def plot_loss(history):\n",
    "    plt.plot(history.history['loss'], label='loss')\n",
    "    plt.plot(history.history['val_loss'], label='val_loss')\n",
    "    #plt.ylim([8, 80])\n",
    "    plt.xlabel('Epoch')\n",
    "    plt.ylabel('Error [uplink]')\n",
    "    plt.legend()\n",
    "    plt.grid(True)"
   ]
  },
  {
   "cell_type": "code",
   "execution_count": 49,
   "metadata": {},
   "outputs": [
    {
     "data": {
      "text/plain": [
       "([24,\n",
       "  25,\n",
       "  26,\n",
       "  27,\n",
       "  28,\n",
       "  29,\n",
       "  30,\n",
       "  31,\n",
       "  32,\n",
       "  33,\n",
       "  34,\n",
       "  35,\n",
       "  36,\n",
       "  37,\n",
       "  38,\n",
       "  39,\n",
       "  40,\n",
       "  41,\n",
       "  42,\n",
       "  43,\n",
       "  44,\n",
       "  45,\n",
       "  46,\n",
       "  47],\n",
       " [-0.73416364,\n",
       "  -1.1317922,\n",
       "  -1.2301532,\n",
       "  -0.9386167,\n",
       "  -0.1796502,\n",
       "  0.6163533,\n",
       "  0.9322215,\n",
       "  0.9050887,\n",
       "  0.7219669,\n",
       "  0.5675018,\n",
       "  0.44438127,\n",
       "  0.37782037,\n",
       "  0.35064578,\n",
       "  0.34566125,\n",
       "  0.3628375,\n",
       "  0.38662568,\n",
       "  0.4172631,\n",
       "  0.38119432,\n",
       "  0.3125736,\n",
       "  0.15676801,\n",
       "  -0.093966745,\n",
       "  -0.26943442,\n",
       "  -0.9097266,\n",
       "  -1.5933323])"
      ]
     },
     "execution_count": 49,
     "metadata": {},
     "output_type": "execute_result"
    }
   ],
   "source": [
    "list(axis), list(y.numpy())"
   ]
  },
  {
   "cell_type": "code",
   "execution_count": 30,
   "metadata": {},
   "outputs": [
    {
     "data": {
      "image/png": "[encoded data removed]",
      "text/plain": [
       "<Figure size 576x432 with 1 Axes>"
      ]
     },
     "metadata": {
      "needs_background": "light"
     },
     "output_type": "display_data"
    }
   ],
   "source": [
    "plot_loss(history)"
   ]
  },
  {
   "cell_type": "code",
   "execution_count": null,
   "metadata": {},
   "outputs": [],
   "source": []
  },
  {
   "cell_type": "code",
   "execution_count": null,
   "metadata": {},
   "outputs": [],
   "source": []
  }
 ],
 "metadata": {
  "kernelspec": {
   "display_name": "Python 3",
   "language": "python",
   "name": "python3"
  },
  "language_info": {
   "codemirror_mode": {
    "name": "ipython",
    "version": 3
   },
   "file_extension": ".py",
   "mimetype": "text/x-python",
   "name": "python",
   "nbconvert_exporter": "python",
   "pygments_lexer": "ipython3",
   "version": "3.6.9"
  }
 },
 "nbformat": 4,
 "nbformat_minor": 4
}
